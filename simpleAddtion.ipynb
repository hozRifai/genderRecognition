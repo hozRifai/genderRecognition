{
 "cells": [
  {
   "cell_type": "code",
   "execution_count": 1,
   "metadata": {},
   "outputs": [],
   "source": [
    "import tensorflow as tf"
   ]
  },
  {
   "cell_type": "code",
   "execution_count": 7,
   "metadata": {},
   "outputs": [
    {
     "name": "stdout",
     "output_type": "stream",
     "text": [
      "[15.]\n"
     ]
    }
   ],
   "source": [
    "# Input Nodes\n",
    "# tf.float32 is a data type of nodes in Tensorflow\n",
    "# Name is an addition parameter for your node\n",
    "X = tf.placeholder(tf.float32, name=\"x\") \n",
    "Y = tf.placeholder(tf.float32, name=\"y\")\n",
    "\n",
    "# Operation Nodes\n",
    "addition = tf.add(X, Y, name=\"addition\")\n",
    "\n",
    "with tf.Session() as session:\n",
    "    # we can add 2 lists here instead of one number!\n",
    "    result = session.run(addition, feed_dict={X: [5], Y: [10]} )\n",
    "    print(result)"
   ]
  }
 ],
 "metadata": {
  "kernelspec": {
   "display_name": "Python 3",
   "language": "python",
   "name": "python3"
  },
  "language_info": {
   "codemirror_mode": {
    "name": "ipython",
    "version": 3
   },
   "file_extension": ".py",
   "mimetype": "text/x-python",
   "name": "python",
   "nbconvert_exporter": "python",
   "pygments_lexer": "ipython3",
   "version": "3.6.3"
  }
 },
 "nbformat": 4,
 "nbformat_minor": 2
}
